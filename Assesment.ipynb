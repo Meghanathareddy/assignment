{
 "cells": [
  {
   "cell_type": "code",
   "execution_count": 61,
   "metadata": {
    "scrolled": true
   },
   "outputs": [
    {
     "name": "stdout",
     "output_type": "stream",
     "text": [
      "Table created successfully........\n"
     ]
    }
   ],
   "source": [
    "\n",
    "\n",
    "import psycopg2\n",
    "\n",
    "#Establishing the connection\n",
    "conn = psycopg2.connect(\n",
    "   database=\"postgres\", user='postgres', password='Km918268', host='127.0.0.1', port= '5432'\n",
    ")\n",
    "#Creating a cursor object using the cursor() method\n",
    "cursor = conn.cursor()\n",
    "\n",
    "#Doping EMPLOYEE table if already exists.\n",
    "cursor.execute(\"DROP TABLE IF EXISTS EMPLOYEE\")\n",
    "\n",
    "#Creating table as per requirement\n",
    "sql ='''CREATE TABLE EMPLOYEE(\n",
    "   id BIGSERIAL  NOT NULL PRIMARY KEY,\n",
    "   first_name VARCHAR(50) NOT NULL,\n",
    "   last_name VARCHAR(50) NOT NULL,\n",
    "   email VARCHAR(150),\n",
    "   gender VARCHAR(7) NOT NULL,\n",
    "   date_of_birth DATE NOT NULL,\n",
    "   country_of_birth VARCHAR(50),\n",
    "   dept_id BIGINT REFERENCES dept(id),\n",
    "    UNIQUE(dept_id)\n",
    "   \n",
    ")'''\n",
    "cursor.execute(sql)\n",
    "print(\"Table created successfully........\")\n",
    "\n",
    "#Closing the connection\n",
    "conn.close()"
   ]
  },
  {
   "cell_type": "code",
   "execution_count": 64,
   "metadata": {},
   "outputs": [
    {
     "ename": "UniqueViolation",
     "evalue": "duplicate key value violates unique constraint \"employee_pkey\"\nDETAIL:  Key (id)=(1) already exists.\n",
     "output_type": "error",
     "traceback": [
      "\u001b[1;31m---------------------------------------------------------------------------\u001b[0m",
      "\u001b[1;31mUniqueViolation\u001b[0m                           Traceback (most recent call last)",
      "\u001b[1;32m<ipython-input-64-a5a36253a01f>\u001b[0m in \u001b[0;36m<module>\u001b[1;34m\u001b[0m\n\u001b[0;32m     12\u001b[0m \u001b[1;33m\u001b[0m\u001b[0m\n\u001b[0;32m     13\u001b[0m \u001b[1;31m# Preparing SQL queries to INSERT a record into the database.\u001b[0m\u001b[1;33m\u001b[0m\u001b[1;33m\u001b[0m\u001b[1;33m\u001b[0m\u001b[0m\n\u001b[1;32m---> 14\u001b[1;33m \u001b[0mcursor\u001b[0m\u001b[1;33m.\u001b[0m\u001b[0mexecute\u001b[0m\u001b[1;33m(\u001b[0m\u001b[1;34m'''insert into EMPLOYEE (id, first_name, last_name, email, gender, date_of_birth, country_of_birth) values (1, 'Chester', 'Ambrogetti', 'cambrogetti0@t.co', 'Male', '2020-11-18', 'Poland')'''\u001b[0m\u001b[1;33m)\u001b[0m\u001b[1;33m\u001b[0m\u001b[1;33m\u001b[0m\u001b[0m\n\u001b[0m\u001b[0;32m     15\u001b[0m \u001b[0mcursor\u001b[0m\u001b[1;33m.\u001b[0m\u001b[0mexecute\u001b[0m\u001b[1;33m(\u001b[0m\u001b[1;34m'''insert into EMPLOYEE (id, first_name, last_name, email, gender, date_of_birth, country_of_birth) values (2, 'Megha', 'Reddy', 'megha@t.co', 'Male', '2020-10-18', 'Poland')'''\u001b[0m\u001b[1;33m)\u001b[0m\u001b[1;33m\u001b[0m\u001b[1;33m\u001b[0m\u001b[0m\n\u001b[0;32m     16\u001b[0m \u001b[1;33m\u001b[0m\u001b[0m\n",
      "\u001b[1;31mUniqueViolation\u001b[0m: duplicate key value violates unique constraint \"employee_pkey\"\nDETAIL:  Key (id)=(1) already exists.\n"
     ]
    }
   ],
   "source": [
    "import psycopg2\n",
    "\n",
    "#Establishing the connection\n",
    "conn = psycopg2.connect(\n",
    "   database=\"postgres\", user='postgres', password='Km918268', host='127.0.0.1', port= '5432'\n",
    ")\n",
    "#Setting auto commit false\n",
    "conn.autocommit = True\n",
    "\n",
    "#Creating a cursor object using the cursor() method\n",
    "cursor = conn.cursor()\n",
    "\n",
    "# Preparing SQL queries to INSERT a record into the database.\n",
    "cursor.execute('''insert into EMPLOYEE (id, first_name, last_name, email, gender, date_of_birth, country_of_birth) values (1, 'Chester', 'Ambrogetti', 'cambrogetti0@t.co', 'Male', '2020-11-18', 'Poland')''')\n",
    "cursor.execute('''insert into EMPLOYEE (id, first_name, last_name, email, gender, date_of_birth, country_of_birth) values (2, 'Megha', 'Reddy', 'megha@t.co', 'Male', '2020-10-18', 'Poland')''')\n",
    "\n",
    "# Commit your changes in the database\n",
    "conn.commit()\n",
    "print(\"Records inserted........\")\n",
    "\n",
    "# Closing the connection\n",
    "conn.close()"
   ]
  },
  {
   "cell_type": "code",
   "execution_count": 63,
   "metadata": {},
   "outputs": [
    {
     "ename": "DuplicateTable",
     "evalue": "relation \"dept\" already exists\n",
     "output_type": "error",
     "traceback": [
      "\u001b[1;31m---------------------------------------------------------------------------\u001b[0m",
      "\u001b[1;31mDuplicateTable\u001b[0m                            Traceback (most recent call last)",
      "\u001b[1;32m<ipython-input-63-52178f43393d>\u001b[0m in \u001b[0;36m<module>\u001b[1;34m\u001b[0m\n\u001b[0;32m     16\u001b[0m    \u001b[0mdepname\u001b[0m \u001b[0mVARCHAR\u001b[0m\u001b[1;33m(\u001b[0m\u001b[1;36m50\u001b[0m\u001b[1;33m)\u001b[0m \u001b[0mNOT\u001b[0m \u001b[0mNULL\u001b[0m\u001b[1;33m\u001b[0m\u001b[1;33m\u001b[0m\u001b[0m\n\u001b[0;32m     17\u001b[0m )'''\n\u001b[1;32m---> 18\u001b[1;33m \u001b[0mcursor\u001b[0m\u001b[1;33m.\u001b[0m\u001b[0mexecute\u001b[0m\u001b[1;33m(\u001b[0m\u001b[0msql\u001b[0m\u001b[1;33m)\u001b[0m\u001b[1;33m\u001b[0m\u001b[1;33m\u001b[0m\u001b[0m\n\u001b[0m\u001b[0;32m     19\u001b[0m \u001b[0mprint\u001b[0m\u001b[1;33m(\u001b[0m\u001b[1;34m\"Table created successfully........\"\u001b[0m\u001b[1;33m)\u001b[0m\u001b[1;33m\u001b[0m\u001b[1;33m\u001b[0m\u001b[0m\n\u001b[0;32m     20\u001b[0m \u001b[1;33m\u001b[0m\u001b[0m\n",
      "\u001b[1;31mDuplicateTable\u001b[0m: relation \"dept\" already exists\n"
     ]
    }
   ],
   "source": [
    "\n",
    "\n",
    "import psycopg2\n",
    "\n",
    "#Establishing the connection\n",
    "conn = psycopg2.connect(\n",
    "   database=\"postgres\", user='postgres', password='Km918268', host='127.0.0.1', port= '5432'\n",
    ")\n",
    "#Creating a cursor object using the cursor() method\n",
    "cursor = conn.cursor()\n",
    "\n",
    "#Doping EMPLOYEE table if already exists.\n",
    "cursor.execute(\"DROP TABLE IF EXISTS EMPLOYEE\")\n",
    "\n",
    "#Creating table as per requirement\n",
    "sql ='''create table dept (\n",
    "   id BIGSERIAL NOT NULL PRIMARY KEY,\n",
    "   depname VARCHAR(50) NOT NULL\n",
    ")'''\n",
    "cursor.execute(sql)\n",
    "print(\"Table created successfully........\")\n",
    "\n",
    "#Closing the connection\n",
    "conn.close()"
   ]
  },
  {
   "cell_type": "code",
   "execution_count": 65,
   "metadata": {},
   "outputs": [
    {
     "name": "stdout",
     "output_type": "stream",
     "text": [
      "Records inserted........\n"
     ]
    }
   ],
   "source": [
    "import psycopg2\n",
    "\n",
    "#Establishing the connection\n",
    "conn = psycopg2.connect(\n",
    "   database=\"postgres\", user='postgres', password='Km918268', host='127.0.0.1', port= '5432'\n",
    ")\n",
    "#Setting auto commit false\n",
    "conn.autocommit = True\n",
    "\n",
    "#Creating a cursor object using the cursor() method\n",
    "cursor = conn.cursor()\n",
    "\n",
    "# Preparing SQL queries to INSERT a record into the database.\n",
    "\n",
    "cursor.execute('''insert into EMPLOYEE (id, first_name, last_name, email, gender, date_of_birth, country_of_birth) values (2, 'Megha', 'Reddy', 'megha@t.co', 'Male', '2020-10-18', 'Poland')''')\n",
    "\n",
    "# Commit your changes in the database\n",
    "conn.commit()\n",
    "print(\"Records inserted........\")\n",
    "\n",
    "# Closing the connection\n",
    "conn.close()"
   ]
  },
  {
   "cell_type": "code",
   "execution_count": 66,
   "metadata": {},
   "outputs": [
    {
     "name": "stdout",
     "output_type": "stream",
     "text": [
      "Records inserted........\n"
     ]
    }
   ],
   "source": [
    "import psycopg2\n",
    "\n",
    "#Establishing the connection\n",
    "conn = psycopg2.connect(\n",
    "   database=\"postgres\", user='postgres', password='Km918268', host='127.0.0.1', port= '5432'\n",
    ")\n",
    "#Setting auto commit false\n",
    "conn.autocommit = True\n",
    "\n",
    "#Creating a cursor object using the cursor() method\n",
    "cursor = conn.cursor()\n",
    "\n",
    "# Preparing SQL queries to INSERT a record into the database.\n",
    "\n",
    "cursor.execute('''insert into dept (id, depname) values (8, 'CSE')''')\n",
    "cursor.execute('''insert into dept (id, depname) values (9, 'EEE')''')\n",
    "\n",
    "# Commit your changes in the database\n",
    "conn.commit()\n",
    "print(\"Records inserted........\")\n",
    "\n",
    "# Closing the connection\n",
    "conn.close()"
   ]
  },
  {
   "cell_type": "code",
   "execution_count": 70,
   "metadata": {},
   "outputs": [
    {
     "name": "stdout",
     "output_type": "stream",
     "text": [
      "Table updated...... \n",
      "Table updated...... \n",
      "Records inserted........\n",
      "Contents of the Employee table after the update operation: \n",
      "[(1, 'Chester', 'Ambrogetti', 'cambrogetti0@t.co', 'Male', datetime.date(2020, 11, 18), 'Poland', 8), (2, 'Megha', 'Reddy', 'megha@t.co', 'Male', datetime.date(2020, 10, 18), 'Poland', 9)]\n"
     ]
    }
   ],
   "source": [
    "import psycopg2\n",
    "\n",
    "#Establishing the connection\n",
    "conn = psycopg2.connect(\n",
    "   database=\"postgres\", user='postgres', password='Km918268', host='127.0.0.1', port= '5432'\n",
    ")\n",
    "#Setting auto commit false\n",
    "conn.autocommit = True\n",
    "\n",
    "#Creating a cursor object using the cursor() method\n",
    "cursor = conn.cursor()\n",
    "\n",
    "#Updating the records\n",
    "sql = \"UPDATE EMPLOYEE SET dept_id = 8 WHERE id = '1'\"\n",
    "cursor.execute(sql)\n",
    "print(\"Table updated...... \")\n",
    "sql = \"UPDATE EMPLOYEE SET dept_id = 9 WHERE id = '2'\"\n",
    "cursor.execute(sql)\n",
    "print(\"Table updated...... \")\n",
    "# Commit your changes in the database\n",
    "conn.commit()\n",
    "print(\"Records inserted........\")\n",
    "#Fetching all the rows after the update\n",
    "print(\"Contents of the Employee table after the update operation: \")\n",
    "sql = '''SELECT * from EMPLOYEE'''\n",
    "cursor.execute(sql)\n",
    "print(cursor.fetchall())\n",
    "\n",
    "#Commit your changes in the database\n",
    "conn.commit()\n",
    "\n",
    "# Closing the connection\n",
    "conn.close()"
   ]
  },
  {
   "cell_type": "code",
   "execution_count": 72,
   "metadata": {},
   "outputs": [
    {
     "name": "stdout",
     "output_type": "stream",
     "text": [
      "Table updated...... \n",
      "Contents of the Employee table after the update operation: \n",
      "[(2, 'Megha', 'Reddy', 'megha@t.co', 'Male', datetime.date(2020, 10, 18), 'Poland', 9)]\n"
     ]
    }
   ],
   "source": [
    "import psycopg2\n",
    "\n",
    "#Establishing the connection\n",
    "conn = psycopg2.connect(\n",
    "   database=\"postgres\", user='postgres', password='Km918268', host='127.0.0.1', port= '5432'\n",
    ")\n",
    "#Setting auto commit false\n",
    "conn.autocommit = True\n",
    "\n",
    "#Creating a cursor object using the cursor() method\n",
    "cursor = conn.cursor()\n",
    "\n",
    "#Updating the records\n",
    "sql = \"DELETE FROM EMPLOYEE  WHERE id = '1'\"\n",
    "cursor.execute(sql)\n",
    "print(\"Table updated...... \")\n",
    "\n",
    "#Fetching all the rows after the update\n",
    "print(\"Contents of the Employee table after the update operation: \")\n",
    "sql = '''SELECT * from EMPLOYEE'''\n",
    "cursor.execute(sql)\n",
    "print(cursor.fetchall())\n",
    "\n",
    "#Commit your changes in the database\n",
    "conn.commit()\n",
    "\n",
    "# Closing the connection\n",
    "conn.close()"
   ]
  },
  {
   "cell_type": "code",
   "execution_count": null,
   "metadata": {},
   "outputs": [],
   "source": []
  }
 ],
 "metadata": {
  "kernelspec": {
   "display_name": "Python 3",
   "language": "python",
   "name": "python3"
  },
  "language_info": {
   "codemirror_mode": {
    "name": "ipython",
    "version": 3
   },
   "file_extension": ".py",
   "mimetype": "text/x-python",
   "name": "python",
   "nbconvert_exporter": "python",
   "pygments_lexer": "ipython3",
   "version": "3.8.5"
  }
 },
 "nbformat": 4,
 "nbformat_minor": 4
}
